{
 "cells": [
  {
   "cell_type": "markdown",
   "metadata": {},
   "source": [
    "## Clustering shopping mall customers Using KMeans (Unsupervised Learning)\n",
    "\n",
    "This notebook will introduce some basic unsupervised learning in machine learning by clustering mall customers using Kmeans Algorithms\n",
    "\n",
    "## Kmeans Algorithm\n",
    "\n",
    "k-means clustering is a method of vector quantization, originally from signal processing, that aims to partition n observations into k clusters in which each observation belongs to the cluster with the nearest mean (cluster centers or cluster centroid), serving as a prototype of the cluster.\n",
    "\n",
    "  ## Problem Definition\n",
    "  \n",
    "  the aim of this project is to group customers into clusters based on their expenditure, we will use the Kmeans algorithm since the data has no labels\n",
    "  \n",
    "  ## Data \n",
    "  \n",
    "  data used is  from kaggle  https://www.kaggle.com/vjchoudhary7/customer-segmentation-tutorial-in-python\n",
    "  \n",
    "  # features\n",
    "  \n",
    "      1. CustomerID - uniques ID assigned to customer\n",
    "      2. Gender     - Gender of the customer\n",
    "      3. Age    - age of the customer\n",
    "      4. Annual income  - anuual earnings/income of the customer\n",
    "      5. Spending Score  - score assigned by the mall based on customer behavior and spending nature\n",
    "  \n",
    "  \n",
    " "
   ]
  },
  {
   "cell_type": "code",
   "execution_count": 1,
   "metadata": {},
   "outputs": [],
   "source": [
    "## importing Regular EDA and plotting libraries\n",
    "\n",
    "import numpy as np # linear algebra\n",
    "import pandas as pd # data processing, CSV file I/O (e.g. pd.read_csv)\n",
    "import matplotlib.pyplot as plt # pandas and matplotlib for data visualization\n",
    "import seaborn as sns\n",
    "%matplotlib inline\n",
    "\n",
    "\n",
    "## importing sklearn models\n",
    "\n",
    "from sklearn.cluster import KMeans\n"
   ]
  },
  {
   "cell_type": "code",
   "execution_count": 2,
   "metadata": {},
   "outputs": [
    {
     "data": {
      "text/html": [
       "<div>\n",
       "<style scoped>\n",
       "    .dataframe tbody tr th:only-of-type {\n",
       "        vertical-align: middle;\n",
       "    }\n",
       "\n",
       "    .dataframe tbody tr th {\n",
       "        vertical-align: top;\n",
       "    }\n",
       "\n",
       "    .dataframe thead th {\n",
       "        text-align: right;\n",
       "    }\n",
       "</style>\n",
       "<table border=\"1\" class=\"dataframe\">\n",
       "  <thead>\n",
       "    <tr style=\"text-align: right;\">\n",
       "      <th></th>\n",
       "      <th>CustomerID</th>\n",
       "      <th>Gender</th>\n",
       "      <th>Age</th>\n",
       "      <th>Annual Income (k$)</th>\n",
       "      <th>Spending Score (1-100)</th>\n",
       "    </tr>\n",
       "  </thead>\n",
       "  <tbody>\n",
       "    <tr>\n",
       "      <th>0</th>\n",
       "      <td>1</td>\n",
       "      <td>Male</td>\n",
       "      <td>19</td>\n",
       "      <td>15</td>\n",
       "      <td>39</td>\n",
       "    </tr>\n",
       "    <tr>\n",
       "      <th>1</th>\n",
       "      <td>2</td>\n",
       "      <td>Male</td>\n",
       "      <td>21</td>\n",
       "      <td>15</td>\n",
       "      <td>81</td>\n",
       "    </tr>\n",
       "    <tr>\n",
       "      <th>2</th>\n",
       "      <td>3</td>\n",
       "      <td>Female</td>\n",
       "      <td>20</td>\n",
       "      <td>16</td>\n",
       "      <td>6</td>\n",
       "    </tr>\n",
       "    <tr>\n",
       "      <th>3</th>\n",
       "      <td>4</td>\n",
       "      <td>Female</td>\n",
       "      <td>23</td>\n",
       "      <td>16</td>\n",
       "      <td>77</td>\n",
       "    </tr>\n",
       "    <tr>\n",
       "      <th>4</th>\n",
       "      <td>5</td>\n",
       "      <td>Female</td>\n",
       "      <td>31</td>\n",
       "      <td>17</td>\n",
       "      <td>40</td>\n",
       "    </tr>\n",
       "  </tbody>\n",
       "</table>\n",
       "</div>"
      ],
      "text/plain": [
       "   CustomerID  Gender  Age  Annual Income (k$)  Spending Score (1-100)\n",
       "0           1    Male   19                  15                      39\n",
       "1           2    Male   21                  15                      81\n",
       "2           3  Female   20                  16                       6\n",
       "3           4  Female   23                  16                      77\n",
       "4           5  Female   31                  17                      40"
      ]
     },
     "execution_count": 2,
     "metadata": {},
     "output_type": "execute_result"
    }
   ],
   "source": [
    "df = pd.read_csv(\"data\\Mall_Customers.csv\")\n",
    "df.head()"
   ]
  },
  {
   "cell_type": "code",
   "execution_count": 8,
   "metadata": {},
   "outputs": [
    {
     "name": "stdout",
     "output_type": "stream",
     "text": [
      "<class 'pandas.core.frame.DataFrame'>\n",
      "RangeIndex: 200 entries, 0 to 199\n",
      "Data columns (total 5 columns):\n",
      " #   Column                  Non-Null Count  Dtype \n",
      "---  ------                  --------------  ----- \n",
      " 0   CustomerID              200 non-null    int64 \n",
      " 1   Gender                  200 non-null    object\n",
      " 2   Age                     200 non-null    int64 \n",
      " 3   Annual Income (k$)      200 non-null    int64 \n",
      " 4   Spending Score (1-100)  200 non-null    int64 \n",
      "dtypes: int64(4), object(1)\n",
      "memory usage: 7.9+ KB\n"
     ]
    }
   ],
   "source": [
    "df.info()"
   ]
  },
  {
   "cell_type": "code",
   "execution_count": 9,
   "metadata": {},
   "outputs": [
    {
     "data": {
      "text/html": [
       "<div>\n",
       "<style scoped>\n",
       "    .dataframe tbody tr th:only-of-type {\n",
       "        vertical-align: middle;\n",
       "    }\n",
       "\n",
       "    .dataframe tbody tr th {\n",
       "        vertical-align: top;\n",
       "    }\n",
       "\n",
       "    .dataframe thead th {\n",
       "        text-align: right;\n",
       "    }\n",
       "</style>\n",
       "<table border=\"1\" class=\"dataframe\">\n",
       "  <thead>\n",
       "    <tr style=\"text-align: right;\">\n",
       "      <th></th>\n",
       "      <th>CustomerID</th>\n",
       "      <th>Age</th>\n",
       "      <th>Annual Income (k$)</th>\n",
       "      <th>Spending Score (1-100)</th>\n",
       "    </tr>\n",
       "  </thead>\n",
       "  <tbody>\n",
       "    <tr>\n",
       "      <th>count</th>\n",
       "      <td>200.000000</td>\n",
       "      <td>200.000000</td>\n",
       "      <td>200.000000</td>\n",
       "      <td>200.000000</td>\n",
       "    </tr>\n",
       "    <tr>\n",
       "      <th>mean</th>\n",
       "      <td>100.500000</td>\n",
       "      <td>38.850000</td>\n",
       "      <td>60.560000</td>\n",
       "      <td>50.200000</td>\n",
       "    </tr>\n",
       "    <tr>\n",
       "      <th>std</th>\n",
       "      <td>57.879185</td>\n",
       "      <td>13.969007</td>\n",
       "      <td>26.264721</td>\n",
       "      <td>25.823522</td>\n",
       "    </tr>\n",
       "    <tr>\n",
       "      <th>min</th>\n",
       "      <td>1.000000</td>\n",
       "      <td>18.000000</td>\n",
       "      <td>15.000000</td>\n",
       "      <td>1.000000</td>\n",
       "    </tr>\n",
       "    <tr>\n",
       "      <th>25%</th>\n",
       "      <td>50.750000</td>\n",
       "      <td>28.750000</td>\n",
       "      <td>41.500000</td>\n",
       "      <td>34.750000</td>\n",
       "    </tr>\n",
       "    <tr>\n",
       "      <th>50%</th>\n",
       "      <td>100.500000</td>\n",
       "      <td>36.000000</td>\n",
       "      <td>61.500000</td>\n",
       "      <td>50.000000</td>\n",
       "    </tr>\n",
       "    <tr>\n",
       "      <th>75%</th>\n",
       "      <td>150.250000</td>\n",
       "      <td>49.000000</td>\n",
       "      <td>78.000000</td>\n",
       "      <td>73.000000</td>\n",
       "    </tr>\n",
       "    <tr>\n",
       "      <th>max</th>\n",
       "      <td>200.000000</td>\n",
       "      <td>70.000000</td>\n",
       "      <td>137.000000</td>\n",
       "      <td>99.000000</td>\n",
       "    </tr>\n",
       "  </tbody>\n",
       "</table>\n",
       "</div>"
      ],
      "text/plain": [
       "       CustomerID         Age  Annual Income (k$)  Spending Score (1-100)\n",
       "count  200.000000  200.000000          200.000000              200.000000\n",
       "mean   100.500000   38.850000           60.560000               50.200000\n",
       "std     57.879185   13.969007           26.264721               25.823522\n",
       "min      1.000000   18.000000           15.000000                1.000000\n",
       "25%     50.750000   28.750000           41.500000               34.750000\n",
       "50%    100.500000   36.000000           61.500000               50.000000\n",
       "75%    150.250000   49.000000           78.000000               73.000000\n",
       "max    200.000000   70.000000          137.000000               99.000000"
      ]
     },
     "execution_count": 9,
     "metadata": {},
     "output_type": "execute_result"
    }
   ],
   "source": [
    "df.describe()"
   ]
  },
  {
   "cell_type": "code",
   "execution_count": 10,
   "metadata": {},
   "outputs": [
    {
     "data": {
      "text/plain": [
       "CustomerID                0\n",
       "Gender                    0\n",
       "Age                       0\n",
       "Annual Income (k$)        0\n",
       "Spending Score (1-100)    0\n",
       "dtype: int64"
      ]
     },
     "execution_count": 10,
     "metadata": {},
     "output_type": "execute_result"
    }
   ],
   "source": [
    "## Checking for null Values\n",
    "\n",
    "df.isnull().sum()"
   ]
  },
  {
   "cell_type": "markdown",
   "metadata": {},
   "source": [
    "## EDA"
   ]
  },
  {
   "cell_type": "code",
   "execution_count": 11,
   "metadata": {},
   "outputs": [
    {
     "data": {
      "text/html": [
       "<div>\n",
       "<style scoped>\n",
       "    .dataframe tbody tr th:only-of-type {\n",
       "        vertical-align: middle;\n",
       "    }\n",
       "\n",
       "    .dataframe tbody tr th {\n",
       "        vertical-align: top;\n",
       "    }\n",
       "\n",
       "    .dataframe thead th {\n",
       "        text-align: right;\n",
       "    }\n",
       "</style>\n",
       "<table border=\"1\" class=\"dataframe\">\n",
       "  <thead>\n",
       "    <tr style=\"text-align: right;\">\n",
       "      <th></th>\n",
       "      <th>CustomerID</th>\n",
       "      <th>Gender</th>\n",
       "      <th>Age</th>\n",
       "      <th>annual_income</th>\n",
       "      <th>spending_score</th>\n",
       "    </tr>\n",
       "  </thead>\n",
       "  <tbody>\n",
       "    <tr>\n",
       "      <th>0</th>\n",
       "      <td>1</td>\n",
       "      <td>Male</td>\n",
       "      <td>19</td>\n",
       "      <td>15</td>\n",
       "      <td>39</td>\n",
       "    </tr>\n",
       "    <tr>\n",
       "      <th>1</th>\n",
       "      <td>2</td>\n",
       "      <td>Male</td>\n",
       "      <td>21</td>\n",
       "      <td>15</td>\n",
       "      <td>81</td>\n",
       "    </tr>\n",
       "    <tr>\n",
       "      <th>2</th>\n",
       "      <td>3</td>\n",
       "      <td>Female</td>\n",
       "      <td>20</td>\n",
       "      <td>16</td>\n",
       "      <td>6</td>\n",
       "    </tr>\n",
       "    <tr>\n",
       "      <th>3</th>\n",
       "      <td>4</td>\n",
       "      <td>Female</td>\n",
       "      <td>23</td>\n",
       "      <td>16</td>\n",
       "      <td>77</td>\n",
       "    </tr>\n",
       "    <tr>\n",
       "      <th>4</th>\n",
       "      <td>5</td>\n",
       "      <td>Female</td>\n",
       "      <td>31</td>\n",
       "      <td>17</td>\n",
       "      <td>40</td>\n",
       "    </tr>\n",
       "    <tr>\n",
       "      <th>...</th>\n",
       "      <td>...</td>\n",
       "      <td>...</td>\n",
       "      <td>...</td>\n",
       "      <td>...</td>\n",
       "      <td>...</td>\n",
       "    </tr>\n",
       "    <tr>\n",
       "      <th>195</th>\n",
       "      <td>196</td>\n",
       "      <td>Female</td>\n",
       "      <td>35</td>\n",
       "      <td>120</td>\n",
       "      <td>79</td>\n",
       "    </tr>\n",
       "    <tr>\n",
       "      <th>196</th>\n",
       "      <td>197</td>\n",
       "      <td>Female</td>\n",
       "      <td>45</td>\n",
       "      <td>126</td>\n",
       "      <td>28</td>\n",
       "    </tr>\n",
       "    <tr>\n",
       "      <th>197</th>\n",
       "      <td>198</td>\n",
       "      <td>Male</td>\n",
       "      <td>32</td>\n",
       "      <td>126</td>\n",
       "      <td>74</td>\n",
       "    </tr>\n",
       "    <tr>\n",
       "      <th>198</th>\n",
       "      <td>199</td>\n",
       "      <td>Male</td>\n",
       "      <td>32</td>\n",
       "      <td>137</td>\n",
       "      <td>18</td>\n",
       "    </tr>\n",
       "    <tr>\n",
       "      <th>199</th>\n",
       "      <td>200</td>\n",
       "      <td>Male</td>\n",
       "      <td>30</td>\n",
       "      <td>137</td>\n",
       "      <td>83</td>\n",
       "    </tr>\n",
       "  </tbody>\n",
       "</table>\n",
       "<p>200 rows × 5 columns</p>\n",
       "</div>"
      ],
      "text/plain": [
       "     CustomerID  Gender  Age  annual_income  spending_score\n",
       "0             1    Male   19             15              39\n",
       "1             2    Male   21             15              81\n",
       "2             3  Female   20             16               6\n",
       "3             4  Female   23             16              77\n",
       "4             5  Female   31             17              40\n",
       "..          ...     ...  ...            ...             ...\n",
       "195         196  Female   35            120              79\n",
       "196         197  Female   45            126              28\n",
       "197         198    Male   32            126              74\n",
       "198         199    Male   32            137              18\n",
       "199         200    Male   30            137              83\n",
       "\n",
       "[200 rows x 5 columns]"
      ]
     },
     "execution_count": 11,
     "metadata": {},
     "output_type": "execute_result"
    }
   ],
   "source": [
    "df.rename(columns={\"Spending Score (1-100)\":\"spending_score\",\"Annual Income (k$)\":\"annual_income\"})"
   ]
  },
  {
   "cell_type": "code",
   "execution_count": 12,
   "metadata": {},
   "outputs": [
    {
     "data": {
      "image/png": "[encoded data removed]",
      "text/plain": [
       "<Figure size 288x288 with 1 Axes>"
      ]
     },
     "metadata": {},
     "output_type": "display_data"
    }
   ],
   "source": [
    "labels = ['Female', 'Male']\n",
    "size = df['Gender'].value_counts()\n",
    "colors = ['red', 'orange']\n",
    "explode = [0, 0.1]\n",
    "\n",
    "plt.rcParams['figure.figsize'] = (4, 4)\n",
    "plt.pie(size, colors = colors, explode = explode, labels = labels, shadow = True, autopct = '%.2f%%')\n",
    "plt.title('Gender', fontsize = 20)\n",
    "plt.axis('off')\n",
    "plt.legend()\n",
    "plt.show()"
   ]
  },
  {
   "cell_type": "code",
   "execution_count": 13,
   "metadata": {},
   "outputs": [
    {
     "data": {
      "text/plain": [
       "Text(0, 0.5, 'Age')"
      ]
     },
     "execution_count": 13,
     "metadata": {},
     "output_type": "execute_result"
    },
    {
     "data": {
      "image/png": "[encoded data removed]",
      "text/plain": [
       "<Figure size 720x432 with 1 Axes>"
      ]
     },
     "metadata": {
      "needs_background": "light"
     },
     "output_type": "display_data"
    }
   ],
   "source": [
    "## Plotting Age against Spending score\n",
    "\n",
    "plt.figure(figsize=(10,6))\n",
    "plt.scatter(df['Spending Score (1-100)'],df['Age'])\n",
    "plt.title('Spending score (k$) vs Age')\n",
    "plt.xlabel('Spending Score (k$)')\n",
    "plt.ylabel('Age')"
   ]
  },
  {
   "cell_type": "code",
   "execution_count": 17,
   "metadata": {},
   "outputs": [
    {
     "name": "stdout",
     "output_type": "stream",
     "text": [
      "CustomerID\n",
      "Gender\n",
      "Age\n",
      "Annual Income (k$)\n",
      "Spending Score (1-100)\n"
     ]
    }
   ],
   "source": [
    "for col_name in df:\n",
    "    print(col_name)"
   ]
  },
  {
   "cell_type": "code",
   "execution_count": 15,
   "metadata": {},
   "outputs": [
    {
     "data": {
      "text/plain": [
       "Text(0, 0.5, 'Spending Score (1-100)')"
      ]
     },
     "execution_count": 15,
     "metadata": {},
     "output_type": "execute_result"
    },
    {
     "data": {
      "image/png": "[encoded data removed]",
      "text/plain": [
       "<Figure size 720x432 with 1 Axes>"
      ]
     },
     "metadata": {
      "needs_background": "light"
     },
     "output_type": "display_data"
    }
   ],
   "source": [
    "## Plotting Annual income  against Spending score\n",
    "\n",
    "plt.figure(figsize=(10,6))\n",
    "plt.scatter(df['Annual Income (k$)'],df['Spending Score (1-100)'])\n",
    "plt.title('Annual Income (k$) vs Spending Score (1-100)')\n",
    "plt.xlabel('Annual Income (k$)')\n",
    "plt.ylabel('Spending Score (1-100)')"
   ]
  },
  {
   "cell_type": "code",
   "execution_count": 16,
   "metadata": {},
   "outputs": [
    {
     "data": {
      "image/png": "[encoded data removed]",
      "text/plain": [
       "<Figure size 720x432 with 1 Axes>"
      ]
     },
     "metadata": {
      "needs_background": "light"
     },
     "output_type": "display_data"
    }
   ],
   "source": [
    "## Plotting annual income against spending score wrt gender\n",
    "\n",
    "plt.figure(1, figsize=(10,6))\n",
    "\n",
    "for gender in ['Male','Female']:\n",
    "    plt.scatter(x='Annual Income (k$)',y='Spending Score (1-100)',data=df[df['Gender']==gender],s = 200,alpha=0.5, label=gender)\n",
    "    \n",
    "plt.xlabel('Annual Income')\n",
    "plt.ylabel('Spending Score')\n",
    "plt.title('A graph of Annual Income against Spending Score w.r.t Gender')\n",
    "plt.legend()\n",
    "plt.show()\n",
    "    "
   ]
  },
  {
   "cell_type": "markdown",
   "metadata": {},
   "source": [
    "from the plots above, one can deduxe that there are some concerns here for the management of the mall as there are people with large annual income but their spending score is minimal"
   ]
  },
  {
   "cell_type": "code",
   "execution_count": 21,
   "metadata": {},
   "outputs": [
    {
     "name": "stdout",
     "output_type": "stream",
     "text": [
      "CustomerID\n",
      "Gender\n",
      "Age\n",
      "Annual Income (k$)\n",
      "Spending Score (1-100)\n"
     ]
    }
   ],
   "source": [
    "for columns in df:\n",
    "    print(columns)"
   ]
  },
  {
   "cell_type": "code",
   "execution_count": 26,
   "metadata": {},
   "outputs": [],
   "source": [
    "## Dropping Duplicate Values\n",
    "\n",
    "df.drop_duplicates(inplace=True)"
   ]
  },
  {
   "cell_type": "code",
   "execution_count": 29,
   "metadata": {},
   "outputs": [
    {
     "data": {
      "text/plain": [
       "array([[ 15,  39],\n",
       "       [ 15,  81],\n",
       "       [ 16,   6],\n",
       "       [ 16,  77],\n",
       "       [ 17,  40],\n",
       "       [ 17,  76],\n",
       "       [ 18,   6],\n",
       "       [ 18,  94],\n",
       "       [ 19,   3],\n",
       "       [ 19,  72],\n",
       "       [ 19,  14],\n",
       "       [ 19,  99],\n",
       "       [ 20,  15],\n",
       "       [ 20,  77],\n",
       "       [ 20,  13],\n",
       "       [ 20,  79],\n",
       "       [ 21,  35],\n",
       "       [ 21,  66],\n",
       "       [ 23,  29],\n",
       "       [ 23,  98],\n",
       "       [ 24,  35],\n",
       "       [ 24,  73],\n",
       "       [ 25,   5],\n",
       "       [ 25,  73],\n",
       "       [ 28,  14],\n",
       "       [ 28,  82],\n",
       "       [ 28,  32],\n",
       "       [ 28,  61],\n",
       "       [ 29,  31],\n",
       "       [ 29,  87],\n",
       "       [ 30,   4],\n",
       "       [ 30,  73],\n",
       "       [ 33,   4],\n",
       "       [ 33,  92],\n",
       "       [ 33,  14],\n",
       "       [ 33,  81],\n",
       "       [ 34,  17],\n",
       "       [ 34,  73],\n",
       "       [ 37,  26],\n",
       "       [ 37,  75],\n",
       "       [ 38,  35],\n",
       "       [ 38,  92],\n",
       "       [ 39,  36],\n",
       "       [ 39,  61],\n",
       "       [ 39,  28],\n",
       "       [ 39,  65],\n",
       "       [ 40,  55],\n",
       "       [ 40,  47],\n",
       "       [ 40,  42],\n",
       "       [ 40,  42],\n",
       "       [ 42,  52],\n",
       "       [ 42,  60],\n",
       "       [ 43,  54],\n",
       "       [ 43,  60],\n",
       "       [ 43,  45],\n",
       "       [ 43,  41],\n",
       "       [ 44,  50],\n",
       "       [ 44,  46],\n",
       "       [ 46,  51],\n",
       "       [ 46,  46],\n",
       "       [ 46,  56],\n",
       "       [ 46,  55],\n",
       "       [ 47,  52],\n",
       "       [ 47,  59],\n",
       "       [ 48,  51],\n",
       "       [ 48,  59],\n",
       "       [ 48,  50],\n",
       "       [ 48,  48],\n",
       "       [ 48,  59],\n",
       "       [ 48,  47],\n",
       "       [ 49,  55],\n",
       "       [ 49,  42],\n",
       "       [ 50,  49],\n",
       "       [ 50,  56],\n",
       "       [ 54,  47],\n",
       "       [ 54,  54],\n",
       "       [ 54,  53],\n",
       "       [ 54,  48],\n",
       "       [ 54,  52],\n",
       "       [ 54,  42],\n",
       "       [ 54,  51],\n",
       "       [ 54,  55],\n",
       "       [ 54,  41],\n",
       "       [ 54,  44],\n",
       "       [ 54,  57],\n",
       "       [ 54,  46],\n",
       "       [ 57,  58],\n",
       "       [ 57,  55],\n",
       "       [ 58,  60],\n",
       "       [ 58,  46],\n",
       "       [ 59,  55],\n",
       "       [ 59,  41],\n",
       "       [ 60,  49],\n",
       "       [ 60,  40],\n",
       "       [ 60,  42],\n",
       "       [ 60,  52],\n",
       "       [ 60,  47],\n",
       "       [ 60,  50],\n",
       "       [ 61,  42],\n",
       "       [ 61,  49],\n",
       "       [ 62,  41],\n",
       "       [ 62,  48],\n",
       "       [ 62,  59],\n",
       "       [ 62,  55],\n",
       "       [ 62,  56],\n",
       "       [ 62,  42],\n",
       "       [ 63,  50],\n",
       "       [ 63,  46],\n",
       "       [ 63,  43],\n",
       "       [ 63,  48],\n",
       "       [ 63,  52],\n",
       "       [ 63,  54],\n",
       "       [ 64,  42],\n",
       "       [ 64,  46],\n",
       "       [ 65,  48],\n",
       "       [ 65,  50],\n",
       "       [ 65,  43],\n",
       "       [ 65,  59],\n",
       "       [ 67,  43],\n",
       "       [ 67,  57],\n",
       "       [ 67,  56],\n",
       "       [ 67,  40],\n",
       "       [ 69,  58],\n",
       "       [ 69,  91],\n",
       "       [ 70,  29],\n",
       "       [ 70,  77],\n",
       "       [ 71,  35],\n",
       "       [ 71,  95],\n",
       "       [ 71,  11],\n",
       "       [ 71,  75],\n",
       "       [ 71,   9],\n",
       "       [ 71,  75],\n",
       "       [ 72,  34],\n",
       "       [ 72,  71],\n",
       "       [ 73,   5],\n",
       "       [ 73,  88],\n",
       "       [ 73,   7],\n",
       "       [ 73,  73],\n",
       "       [ 74,  10],\n",
       "       [ 74,  72],\n",
       "       [ 75,   5],\n",
       "       [ 75,  93],\n",
       "       [ 76,  40],\n",
       "       [ 76,  87],\n",
       "       [ 77,  12],\n",
       "       [ 77,  97],\n",
       "       [ 77,  36],\n",
       "       [ 77,  74],\n",
       "       [ 78,  22],\n",
       "       [ 78,  90],\n",
       "       [ 78,  17],\n",
       "       [ 78,  88],\n",
       "       [ 78,  20],\n",
       "       [ 78,  76],\n",
       "       [ 78,  16],\n",
       "       [ 78,  89],\n",
       "       [ 78,   1],\n",
       "       [ 78,  78],\n",
       "       [ 78,   1],\n",
       "       [ 78,  73],\n",
       "       [ 79,  35],\n",
       "       [ 79,  83],\n",
       "       [ 81,   5],\n",
       "       [ 81,  93],\n",
       "       [ 85,  26],\n",
       "       [ 85,  75],\n",
       "       [ 86,  20],\n",
       "       [ 86,  95],\n",
       "       [ 87,  27],\n",
       "       [ 87,  63],\n",
       "       [ 87,  13],\n",
       "       [ 87,  75],\n",
       "       [ 87,  10],\n",
       "       [ 87,  92],\n",
       "       [ 88,  13],\n",
       "       [ 88,  86],\n",
       "       [ 88,  15],\n",
       "       [ 88,  69],\n",
       "       [ 93,  14],\n",
       "       [ 93,  90],\n",
       "       [ 97,  32],\n",
       "       [ 97,  86],\n",
       "       [ 98,  15],\n",
       "       [ 98,  88],\n",
       "       [ 99,  39],\n",
       "       [ 99,  97],\n",
       "       [101,  24],\n",
       "       [101,  68],\n",
       "       [103,  17],\n",
       "       [103,  85],\n",
       "       [103,  23],\n",
       "       [103,  69],\n",
       "       [113,   8],\n",
       "       [113,  91],\n",
       "       [120,  16],\n",
       "       [120,  79],\n",
       "       [126,  28],\n",
       "       [126,  74],\n",
       "       [137,  18],\n",
       "       [137,  83]], dtype=int64)"
      ]
     },
     "execution_count": 29,
     "metadata": {},
     "output_type": "execute_result"
    }
   ],
   "source": [
    "## we will use only the spending score and income level as our features to determine the labels\n",
    "X = df.iloc[:,[3,4]].values\n",
    "X"
   ]
  },
  {
   "cell_type": "code",
   "execution_count": 37,
   "metadata": {},
   "outputs": [
    {
     "data": {
      "image/png": "[encoded data removed]",
      "text/plain": [
       "<Figure size 288x288 with 1 Axes>"
      ]
     },
     "metadata": {
      "needs_background": "light"
     },
     "output_type": "display_data"
    }
   ],
   "source": [
    "## plot the elbow method to find the number of clusters we will use\n",
    "## wcss --within cluster sum of squares\n",
    "\n",
    "wcss = []\n",
    "\n",
    "for i in range(1,11):\n",
    "    Kmeans = KMeans(n_clusters=i,init='k-means++',n_init=10,\n",
    "    max_iter=300,random_state=0)\n",
    "    Kmeans.fit(X)\n",
    "    wcss.append(Kmeans.inertia_)\n",
    "    \n",
    "plt.plot(range(1,11),wcss)\n",
    "plt.xlabel('No of Clusters')\n",
    "plt.ylabel('WCSS')\n",
    "plt.title('Elbow Method')\n",
    "plt.show()\n",
    "    "
   ]
  },
  {
   "cell_type": "markdown",
   "metadata": {},
   "source": [
    "from the elbow method above, we can conclude that the number of clusters to be used is 5"
   ]
  },
  {
   "cell_type": "code",
   "execution_count": 40,
   "metadata": {},
   "outputs": [
    {
     "data": {
      "text/plain": [
       "array([3, 1, 3, 1, 3, 1, 3, 1, 3, 1, 3, 1, 3, 1, 3, 1, 3, 1, 3, 1, 3, 1,\n",
       "       3, 1, 3, 1, 3, 1, 3, 1, 3, 1, 3, 1, 3, 1, 3, 1, 3, 1, 3, 1, 3, 0,\n",
       "       3, 1, 0, 0, 0, 0, 0, 0, 0, 0, 0, 0, 0, 0, 0, 0, 0, 0, 0, 0, 0, 0,\n",
       "       0, 0, 0, 0, 0, 0, 0, 0, 0, 0, 0, 0, 0, 0, 0, 0, 0, 0, 0, 0, 0, 0,\n",
       "       0, 0, 0, 0, 0, 0, 0, 0, 0, 0, 0, 0, 0, 0, 0, 0, 0, 0, 0, 0, 0, 0,\n",
       "       0, 0, 0, 0, 0, 0, 0, 0, 0, 0, 0, 0, 0, 2, 4, 2, 0, 2, 4, 2, 4, 2,\n",
       "       0, 2, 4, 2, 4, 2, 4, 2, 4, 2, 0, 2, 4, 2, 4, 2, 4, 2, 4, 2, 4, 2,\n",
       "       4, 2, 4, 2, 4, 2, 4, 2, 4, 2, 4, 2, 4, 2, 4, 2, 4, 2, 4, 2, 4, 2,\n",
       "       4, 2, 4, 2, 4, 2, 4, 2, 4, 2, 4, 2, 4, 2, 4, 2, 4, 2, 4, 2, 4, 2,\n",
       "       4, 2])"
      ]
     },
     "execution_count": 40,
     "metadata": {},
     "output_type": "execute_result"
    }
   ],
   "source": [
    "Kmeans = KMeans(n_clusters = 5,init='k-means++',n_init = 10,max_iter=300,random_state=0)\n",
    "\n",
    "y_preds = Kmeans.fit_predict(X)\n",
    "\n",
    "y_preds"
   ]
  },
  {
   "cell_type": "markdown",
   "metadata": {},
   "source": [
    "Now let's visualize the clusters"
   ]
  },
  {
   "cell_type": "code",
   "execution_count": 46,
   "metadata": {},
   "outputs": [
    {
     "name": "stderr",
     "output_type": "stream",
     "text": [
      "C:\\Users\\abda5\\Contacts\\sample_project_1\\env\\lib\\site-packages\\seaborn\\_decorators.py:36: FutureWarning: Pass the following variables as keyword args: x, y. From version 0.12, the only valid positional argument will be `data`, and passing other arguments without an explicit keyword will result in an error or misinterpretation.\n",
      "  warnings.warn(\n",
      "C:\\Users\\abda5\\Contacts\\sample_project_1\\env\\lib\\site-packages\\seaborn\\_decorators.py:36: FutureWarning: Pass the following variables as keyword args: x, y. From version 0.12, the only valid positional argument will be `data`, and passing other arguments without an explicit keyword will result in an error or misinterpretation.\n",
      "  warnings.warn(\n",
      "C:\\Users\\abda5\\Contacts\\sample_project_1\\env\\lib\\site-packages\\seaborn\\_decorators.py:36: FutureWarning: Pass the following variables as keyword args: x, y. From version 0.12, the only valid positional argument will be `data`, and passing other arguments without an explicit keyword will result in an error or misinterpretation.\n",
      "  warnings.warn(\n",
      "C:\\Users\\abda5\\Contacts\\sample_project_1\\env\\lib\\site-packages\\seaborn\\_decorators.py:36: FutureWarning: Pass the following variables as keyword args: x, y. From version 0.12, the only valid positional argument will be `data`, and passing other arguments without an explicit keyword will result in an error or misinterpretation.\n",
      "  warnings.warn(\n",
      "C:\\Users\\abda5\\Contacts\\sample_project_1\\env\\lib\\site-packages\\seaborn\\_decorators.py:36: FutureWarning: Pass the following variables as keyword args: x, y. From version 0.12, the only valid positional argument will be `data`, and passing other arguments without an explicit keyword will result in an error or misinterpretation.\n",
      "  warnings.warn(\n"
     ]
    },
    {
     "data": {
      "image/png": "[encoded data removed]",
      "text/plain": [
       "<Figure size 1080x576 with 1 Axes>"
      ]
     },
     "metadata": {
      "needs_background": "light"
     },
     "output_type": "display_data"
    }
   ],
   "source": [
    "plt.figure(figsize=(15,8))\n",
    "\n",
    "\n",
    "sns.scatterplot(X[y_preds == 0, 0], X[y_preds == 0, 1], color = 'yellow', label = 'Cluster 1',s=50)\n",
    "sns.scatterplot(X[y_preds==1,0], X[y_preds==1,1], color = 'blue', label='Cluster 2',s=50)\n",
    "sns.scatterplot(X[y_preds == 2,0], X[y_preds==2,1], color = 'red', label = 'Cluster 3', s=50)\n",
    "sns.scatterplot(X[y_preds == 3,0], X[y_preds==3,1], color = 'orange', label = 'Cluster 4', s=50)\n",
    "sns.scatterplot(X[y_preds==4,0],X[y_preds==4,1], color = 'Green',label='Cluster 5',s=50)\n",
    "\n",
    "plt.grid(False)\n",
    "plt.title('A graph showing clusters of customers')\n",
    "plt.xlabel('Annual Income')\n",
    "plt.ylabel('Spending Score (1-100)')\n",
    "plt.legend()\n",
    "plt.show()"
   ]
  },
  {
   "cell_type": "markdown",
   "metadata": {},
   "source": [
    "from the graph above, we can see clearly the clusters of customers based on their spending score and annual income, the mall should look into those in cluster 5 as their spending score is low while their earnings are above average, "
   ]
  },
  {
   "cell_type": "code",
   "execution_count": null,
   "metadata": {},
   "outputs": [],
   "source": []
  }
 ],
 "metadata": {
  "kernelspec": {
   "display_name": "Python 3",
   "language": "python",
   "name": "python3"
  },
  "language_info": {
   "codemirror_mode": {
    "name": "ipython",
    "version": 3
   },
   "file_extension": ".py",
   "mimetype": "text/x-python",
   "name": "python",
   "nbconvert_exporter": "python",
   "pygments_lexer": "ipython3",
   "version": "3.8.2"
  }
 },
 "nbformat": 4,
 "nbformat_minor": 4
}
